{
 "cells": [
  {
   "cell_type": "code",
   "execution_count": null,
   "metadata": {
    "collapsed": true
   },
   "outputs": [],
   "source": [
    "import pandas as pd;\n",
    "import numpy as np;\n",
    "import scipy as sp;\n",
    "import sklearn;\n",
    "import sys;\n",
    "from nltk.corpus import stopwords;\n",
    "import nltk;\n",
    "from gensim.models import ldamodel\n",
    "import gensim.corpora\n",
    "from sklearn.feature_extraction.text import CountVectorizer, TfidfTransformer;\n",
    "from sklearn.decomposition import NMF;\n",
    "from sklearn.preprocessing import normalize;\n",
    "import pickle;"
   ]
  },
  {
   "cell_type": "code",
   "execution_count": null,
   "metadata": {
    "collapsed": true
   },
   "outputs": [],
   "source": [
    "data = pd.read_excel('C:\\\\Users\\\\shreyas.raghavan\\\\Desktop\\\\NLP\\\\ASSN- W2\\\\ABC_Reviews.xlsx', error_bad_lines=False);"
   ]
  },
  {
   "cell_type": "code",
   "execution_count": 4,
   "metadata": {
    "collapsed": true
   },
   "outputs": [],
   "source": [
    "stop_words = stopwords.words('english')\n",
    "stop_words.extend(['from', 'subject', 're', 'edu', 'use'])"
   ]
  },
  {
   "cell_type": "code",
   "execution_count": 5,
   "metadata": {},
   "outputs": [
    {
     "name": "stdout",
     "output_type": "stream",
     "text": [
      "[\"Having come here over the years (since first built) I find one fault.. We all know that between the food, hotels and merchandise and the high ticket prices along with the $20.00 per day parking, Disney is raking in tremendous bucks. I have no quarrel with that, but it would be nice if they updated their rides & attractions. The Hall of Presidents forces them to update for each new President, good thing we don't have a dictator :) Sure they have the new Seven Dwarfs Mine Train + Be Our Guess (they make even more money here) + some other minor things, but it's time to pure some of those huge profits back into the park. If your a child you probably could care less, but children are brought by their parents who do notice. Make more 'magic' Disney suits!\"\n",
      " \"If you want to spend one day in Disney World. Magic Kingdom is where it's at. Epcot is worldly cuisine and you can drink alcohol while Animal Kingdom is part zoo and safari. 1 Day per kingdom. If you get park hopper, it's hard to finish all 4 or even 2 kingdom because line up is TOO LONG.There is longer lines (30 mins average and 60 mins for popular rides) and wait time compared to Universal Studios but that's because it's a kid's and family amusement park! Universal is gear towards teens and adults. The rides are for kids and not many roller coasters, most of them is a simple and flat ride.The food is overpriced but water fountains everywhere, so bring a water bottle.*** Fireworks is at 9pm on Weds and 10pm on other nights. Stake a good spot 15-30 mins before it happens.\"\n",
      " 'This is the place to go to brig out the child in a lll of us...we were all delighted, especially our 2 1/2 year old toddler!'\n",
      " ...\n",
      " \"Never thought about reviewing Disney. It speaks for itself. I WILL say that if you only want to go for part of the day, just look around online to save some cash. I can't say any more!!\"\n",
      " 'We visited the parks over the December holidays and wow what an amazing time we had.1. As first time visitors we needed 10 days to fully enjoy the parks with rest in between some of the days. 2. Next time will consider staying at one of the parks hotels for a night or two3. Wear a comfortable pair of walking shoes.4. Sun cream, sun cream, sun cream!!!5. Plan for a minimum 4/5 hour visit per park6. Have a full meal before visiting the parks7. Pack some drinks and light snacks and maybe plan to have a meal at Disney8. Plan your rides , if you have small ones - check the height restrictions9. Download the Disney app and make sure you have a full battery: Fast pass, Fast Pass, Fast Pass allows you quicker entrance onto the rides10. Transportation between The Magic Kingdom, Epcot, Animal Kingdom and Hollywood Studios is convenient and free.11. Remember which finger you used for their biometric system as you will use the same finger each time you enter any of the parks.12. For convenience, if with small kids better to take them to the bathrooms as you enter or exit the park.13. Rather buy memorabilia at the downtown shops, Disney is expensive14. Take an extra change of clothes for the kids, you can get wet from some of the rides15. Take a camera16. If possible avoid the peak season'\n",
      " 'Having just completed my 17th trip to this magical place, and arriving home to several e-mails from friends wanting to plan their own trips, and looking for advice - it dawned on me that some people could also use the tips I give friends.1. You can ALWAYS afford to stay on the \"world\". There is a place for every budget. The question is, should you? YES if you are only visiting Disney World, maybe not if you are visiting several attractions in the area.2. Will you need a rental car? Again NOT if you only want to visit Disney3. Do I need advance food reservations? Yes, if you have special restaurants on your radar, but if you like to \"wing it\" - feel free, as long as you are willing to settle for fast food.4. What age is best for Disney? If you take children under 6 - then you are doing it for yourself, or for the grandparents - and you probably WILL be punished by the kids - your own fault, fair warning!5. What is the BEST tip you have for Disney World? The best thing I ever did was get a Disney Chase VISA. You earn \"dream dollars\" with every item you charge, anywhere. I routinely charge any and everything I can - this gives me around $1000.00, every 6 months to spend at Disney. This money can go toward your room, your airline tickets, your food or shopping - and in addition, at most shops on the world, you get 10% off of purchases over $50.00 when using your card.So many tips, so little space. The Disney World parks are constantly changing, evolving - and You can find something new no matter how many times you visit. Remember this is a place for kids - of any age. Leave GRUMPY at home!']\n"
     ]
    },
    {
     "data": {
      "text/html": [
       "<div>\n",
       "<style>\n",
       "    .dataframe thead tr:only-child th {\n",
       "        text-align: right;\n",
       "    }\n",
       "\n",
       "    .dataframe thead th {\n",
       "        text-align: left;\n",
       "    }\n",
       "\n",
       "    .dataframe tbody tr th {\n",
       "        vertical-align: top;\n",
       "    }\n",
       "</style>\n",
       "<table border=\"1\" class=\"dataframe\">\n",
       "  <thead>\n",
       "    <tr style=\"text-align: right;\">\n",
       "      <th></th>\n",
       "      <th>fullReview</th>\n",
       "    </tr>\n",
       "  </thead>\n",
       "  <tbody>\n",
       "    <tr>\n",
       "      <th>0</th>\n",
       "      <td>Having come here over the years (since first b...</td>\n",
       "    </tr>\n",
       "    <tr>\n",
       "      <th>1</th>\n",
       "      <td>If you want to spend one day in Disney World. ...</td>\n",
       "    </tr>\n",
       "    <tr>\n",
       "      <th>2</th>\n",
       "      <td>This is the place to go to brig out the child ...</td>\n",
       "    </tr>\n",
       "    <tr>\n",
       "      <th>3</th>\n",
       "      <td>Been to Disney too many times to count. My mos...</td>\n",
       "    </tr>\n",
       "    <tr>\n",
       "      <th>4</th>\n",
       "      <td>No matter how many times we go to Epcot we hav...</td>\n",
       "    </tr>\n",
       "  </tbody>\n",
       "</table>\n",
       "</div>"
      ],
      "text/plain": [
       "                                          fullReview\n",
       "0  Having come here over the years (since first b...\n",
       "1  If you want to spend one day in Disney World. ...\n",
       "2  This is the place to go to brig out the child ...\n",
       "3  Been to Disney too many times to count. My mos...\n",
       "4  No matter how many times we go to Epcot we hav..."
      ]
     },
     "execution_count": 5,
     "metadata": {},
     "output_type": "execute_result"
    }
   ],
   "source": [
    "print(data.fullReview.unique())\n",
    "data.head()"
   ]
  },
  {
   "cell_type": "code",
   "execution_count": 6,
   "metadata": {
    "collapsed": true
   },
   "outputs": [],
   "source": [
    "data=data.fullReview.tolist()\n",
    "def sent_to_words(sentences):\n",
    "    for sentence in sentences:\n",
    "        yield(gensim.utils.simple_preprocess(str(sentence), deacc=True))  # deacc=True removes punctuations\n",
    "\n",
    "data_words = list(sent_to_words(data))\n",
    "\n"
   ]
  },
  {
   "cell_type": "code",
   "execution_count": 15,
   "metadata": {
    "collapsed": true
   },
   "outputs": [],
   "source": [
    "# Define functions for stopwords, bigrams, trigrams and lemmatization\n",
    "def remove_stopwords(texts):\n",
    "    return [[word for word in gensim.utils.simple_preprocess(str(doc)) if word not in stop_words] for doc in texts]\n",
    "\n",
    "def make_bigrams(texts):\n",
    "    return [bigram_mod[doc] for doc in texts]\n",
    "\n",
    "def make_trigrams(texts):\n",
    "    return [trigram_mod[bigram_mod[doc]] for doc in texts]\n",
    "\n",
    "def lemmatization(texts, allowed_postags=['NOUN', 'ADJ', 'VERB', 'ADV']):\n",
    "    \"\"\"https://spacy.io/api/annotation\"\"\"\n",
    "    texts_out = []\n",
    "    for sent in texts:\n",
    "        doc = nlp(\" \".join(sent)) \n",
    "        texts_out.append([token.lemma_ for token in doc if token.pos_ in allowed_postags])\n",
    "    return texts_out"
   ]
  },
  {
   "cell_type": "code",
   "execution_count": 16,
   "metadata": {},
   "outputs": [
    {
     "name": "stdout",
     "output_type": "stream",
     "text": [
      "['having', 'come', 'here', 'over', 'the', 'years', 'since', 'first', 'built', 'find', 'one', 'fault', 'we', 'all', 'know', 'that', 'between', 'the', 'food', 'hotels', 'and', 'merchandise', 'and', 'the', 'high', 'ticket', 'prices', 'along', 'with', 'the', 'per', 'day', 'parking', 'disney', 'is', 'raking', 'in', 'tremendous', 'bucks', 'have', 'no', 'quarrel', 'with', 'that', 'but', 'it', 'would', 'be', 'nice', 'if', 'they', 'updated', 'their', 'rides', 'attractions', 'the', 'hall', 'of', 'presidents', 'forces', 'them', 'to', 'update', 'for', 'each', 'new', 'president', 'good', 'thing', 'we', 'don', 'have', 'dictator', 'sure', 'they', 'have', 'the', 'new', 'seven_dwarfs_mine_train', 'be', 'our', 'guess', 'they', 'make', 'even', 'more', 'money', 'here', 'some', 'other', 'minor', 'things', 'but', 'it', 'time', 'to', 'pure', 'some', 'of', 'those', 'huge', 'profits', 'back', 'into', 'the', 'park', 'if', 'your', 'child', 'you', 'probably', 'could', 'care', 'less', 'but', 'children', 'are', 'brought', 'by', 'their', 'parents', 'who', 'do', 'notice', 'make', 'more', 'magic', 'disney', 'suits']\n"
     ]
    }
   ],
   "source": [
    "# Build the bigram and trigram models\n",
    "bigram = gensim.models.Phrases(data_words, min_count=5, threshold=100) # higher threshold fewer phrases.\n",
    "trigram = gensim.models.Phrases(bigram[data_words], threshold=100)  \n",
    "\n",
    "# Faster way to get a sentence clubbed as a trigram/bigram\n",
    "bigram_mod = gensim.models.phrases.Phraser(bigram)\n",
    "trigram_mod = gensim.models.phrases.Phraser(trigram)\n",
    "\n",
    "# See trigram example\n",
    "print(trigram_mod[bigram_mod[data_words[0]]])"
   ]
  },
  {
   "cell_type": "code",
   "execution_count": 19,
   "metadata": {},
   "outputs": [
    {
     "name": "stdout",
     "output_type": "stream",
     "text": [
      "[['come', 'years', 'since', 'first', 'built', 'find', 'one', 'fault', 'know', 'food', 'hotels', 'merchandise', 'high', 'ticket', 'prices', 'along', 'per', 'day', 'parking', 'disney', 'raking', 'tremendous', 'bucks', 'quarrel', 'would', 'nice', 'updated', 'rides', 'attractions', 'hall', 'presidents', 'forces', 'update', 'new', 'president', 'good', 'thing', 'dictator', 'sure', 'new', 'seven_dwarfs', 'mine_train', 'guess', 'make', 'even', 'money', 'minor', 'things', 'time', 'pure', 'huge', 'profits', 'back', 'park', 'child', 'probably', 'could', 'care', 'less', 'children', 'brought', 'parents', 'notice', 'make', 'magic', 'disney', 'suits']]\n"
     ]
    }
   ],
   "source": [
    "data_words_nostops = remove_stopwords(data_words)\n",
    "\n",
    "# Form Bigrams\n",
    "data_words_bigrams = make_bigrams(data_words_nostops)\n",
    "print(data_words_bigrams[:1])"
   ]
  },
  {
   "cell_type": "code",
   "execution_count": 20,
   "metadata": {},
   "outputs": [
    {
     "name": "stdout",
     "output_type": "stream",
     "text": [
      "[[(0, 1), (1, 1), (2, 1), (3, 1), (4, 1), (5, 1), (6, 1), (7, 1), (8, 1), (9, 1), (10, 1), (11, 1), (12, 1), (13, 2), (14, 1), (15, 1), (16, 1), (17, 1), (18, 1), (19, 1), (20, 1), (21, 1), (22, 1), (23, 1), (24, 1), (25, 1), (26, 1), (27, 1), (28, 1), (29, 2), (30, 1), (31, 1), (32, 1), (33, 1), (34, 2), (35, 1), (36, 1), (37, 1), (38, 1), (39, 1), (40, 1), (41, 1), (42, 1), (43, 1), (44, 1), (45, 1), (46, 1), (47, 1), (48, 1), (49, 1), (50, 1), (51, 1), (52, 1), (53, 1), (54, 1), (55, 1), (56, 1), (57, 1), (58, 1), (59, 1), (60, 1), (61, 1), (62, 1), (63, 1)]]\n"
     ]
    }
   ],
   "source": [
    "import gensim.corpora as corpora\n",
    "id2word = corpora.Dictionary(data_words_bigrams)\n",
    "\n",
    "# Create Corpus\n",
    "texts = data_words_bigrams\n",
    "\n",
    "# Term Document Frequency\n",
    "corpus = [id2word.doc2bow(text) for text in texts]\n",
    "\n",
    "# View\n",
    "print(corpus[:1])"
   ]
  },
  {
   "cell_type": "code",
   "execution_count": 21,
   "metadata": {},
   "outputs": [
    {
     "data": {
      "text/plain": [
       "'along'"
      ]
     },
     "execution_count": 21,
     "metadata": {},
     "output_type": "execute_result"
    }
   ],
   "source": [
    "id2word[0]"
   ]
  },
  {
   "cell_type": "code",
   "execution_count": 22,
   "metadata": {},
   "outputs": [
    {
     "data": {
      "text/plain": [
       "[[('along', 1),\n",
       "  ('attractions', 1),\n",
       "  ('back', 1),\n",
       "  ('brought', 1),\n",
       "  ('bucks', 1),\n",
       "  ('built', 1),\n",
       "  ('care', 1),\n",
       "  ('child', 1),\n",
       "  ('children', 1),\n",
       "  ('come', 1),\n",
       "  ('could', 1),\n",
       "  ('day', 1),\n",
       "  ('dictator', 1),\n",
       "  ('disney', 2),\n",
       "  ('even', 1),\n",
       "  ('fault', 1),\n",
       "  ('find', 1),\n",
       "  ('first', 1),\n",
       "  ('food', 1),\n",
       "  ('forces', 1),\n",
       "  ('good', 1),\n",
       "  ('guess', 1),\n",
       "  ('hall', 1),\n",
       "  ('high', 1),\n",
       "  ('hotels', 1),\n",
       "  ('huge', 1),\n",
       "  ('know', 1),\n",
       "  ('less', 1),\n",
       "  ('magic', 1),\n",
       "  ('make', 2),\n",
       "  ('merchandise', 1),\n",
       "  ('mine_train', 1),\n",
       "  ('minor', 1),\n",
       "  ('money', 1),\n",
       "  ('new', 2),\n",
       "  ('nice', 1),\n",
       "  ('notice', 1),\n",
       "  ('one', 1),\n",
       "  ('parents', 1),\n",
       "  ('park', 1),\n",
       "  ('parking', 1),\n",
       "  ('per', 1),\n",
       "  ('president', 1),\n",
       "  ('presidents', 1),\n",
       "  ('prices', 1),\n",
       "  ('probably', 1),\n",
       "  ('profits', 1),\n",
       "  ('pure', 1),\n",
       "  ('quarrel', 1),\n",
       "  ('raking', 1),\n",
       "  ('rides', 1),\n",
       "  ('seven_dwarfs', 1),\n",
       "  ('since', 1),\n",
       "  ('suits', 1),\n",
       "  ('sure', 1),\n",
       "  ('thing', 1),\n",
       "  ('things', 1),\n",
       "  ('ticket', 1),\n",
       "  ('time', 1),\n",
       "  ('tremendous', 1),\n",
       "  ('update', 1),\n",
       "  ('updated', 1),\n",
       "  ('would', 1),\n",
       "  ('years', 1)]]"
      ]
     },
     "execution_count": 22,
     "metadata": {},
     "output_type": "execute_result"
    }
   ],
   "source": [
    "[[(id2word[id], freq) for id, freq in cp] for cp in corpus[:1]]"
   ]
  },
  {
   "cell_type": "code",
   "execution_count": 23,
   "metadata": {
    "collapsed": true
   },
   "outputs": [],
   "source": [
    "lda_model = gensim.models.ldamodel.LdaModel(corpus=corpus,\n",
    "                                           id2word=id2word,\n",
    "                                           num_topics=10, \n",
    "                                           random_state=100,\n",
    "                                           update_every=1,\n",
    "                                           chunksize=100,\n",
    "                                           passes=10,\n",
    "                                           alpha='auto',\n",
    "                                           per_word_topics=True)\n",
    "num_topics=10"
   ]
  },
  {
   "cell_type": "code",
   "execution_count": 24,
   "metadata": {},
   "outputs": [
    {
     "name": "stdout",
     "output_type": "stream",
     "text": [
      "[(0, '0.072*\"fast\" + 0.070*\"ride\" + 0.059*\"pass\" + 0.028*\"line\" + 0.027*\"passes\" + 0.027*\"wait\" + 0.022*\"system\" + 0.018*\"minutes\" + 0.017*\"new\" + 0.015*\"hour\"'), (1, '0.043*\"disney\" + 0.039*\"go\" + 0.036*\"time\" + 0.031*\"world\" + 0.023*\"great\" + 0.023*\"kids\" + 0.019*\"place\" + 0.016*\"fun\" + 0.015*\"rides\" + 0.015*\"much\"'), (2, '0.049*\"christmas\" + 0.046*\"fireworks\" + 0.034*\"show\" + 0.031*\"parade\" + 0.027*\"night\" + 0.023*\"castle\" + 0.019*\"mickey\" + 0.019*\"party\" + 0.018*\"parades\" + 0.016*\"beautiful\"'), (3, '0.178*\"magic\" + 0.175*\"kingdom\" + 0.095*\"epcot\" + 0.058*\"animal\" + 0.038*\"hollywood_studios\" + 0.012*\"visitors\" + 0.010*\"studios\" + 0.008*\"test_track\" + 0.007*\"safari\" + 0.007*\"tower\"'), (4, '0.051*\"pay\" + 0.043*\"bands\" + 0.041*\"might\" + 0.029*\"main\" + 0.029*\"top\" + 0.029*\"gets\" + 0.027*\"entire\" + 0.027*\"holidays\" + 0.021*\"please\" + 0.019*\"liked\"'), (5, '0.053*\"park\" + 0.044*\"get\" + 0.037*\"day\" + 0.023*\"food\" + 0.017*\"plan\" + 0.015*\"take\" + 0.015*\"long\" + 0.014*\"good\" + 0.014*\"rides\" + 0.013*\"make\"'), (6, '0.026*\"help\" + 0.024*\"memories\" + 0.020*\"together\" + 0.020*\"rude\" + 0.018*\"seen\" + 0.017*\"wrong\" + 0.016*\"non\" + 0.016*\"disappointing\" + 0.015*\"fault\" + 0.015*\"options\"'), (7, '0.056*\"perfect\" + 0.056*\"happy\" + 0.030*\"birthday\" + 0.027*\"shopping\" + 0.025*\"princesses\" + 0.023*\"lifetime\" + 0.023*\"grandparents\" + 0.018*\"rooms\" + 0.018*\"girls\" + 0.017*\"attention\"'), (8, '0.048*\"disney\" + 0.035*\"parks\" + 0.017*\"would\" + 0.017*\"one\" + 0.013*\"many\" + 0.012*\"us\" + 0.012*\"people\" + 0.010*\"stay\" + 0.010*\"could\" + 0.010*\"trip\"'), (9, '0.045*\"several\" + 0.044*\"fastpass\" + 0.035*\"busy\" + 0.030*\"friends\" + 0.027*\"morning\" + 0.019*\"hit\" + 0.019*\"rather\" + 0.018*\"cool\" + 0.018*\"others\" + 0.017*\"moment\"')]\n"
     ]
    }
   ],
   "source": [
    "print(lda_model.print_topics())\n",
    "doc_lda = (lda_model[corpus])"
   ]
  },
  {
   "cell_type": "code",
   "execution_count": 145,
   "metadata": {
    "collapsed": true
   },
   "outputs": [],
   "source": [
    "def get_lda_topics(model, num_topics):\n",
    "    word_dict = {}\n",
    "    topics = model.show_topics(num_topics,20)\n",
    "    word_dict = {'Topic '+str(i):[x.split('*') for x in words.split('+')] \\\n",
    "                 for i,words in lda_model.show_topics(10,1000000)}\n",
    "    return pd.DataFrame.from_dict(word_dict)"
   ]
  },
  {
   "cell_type": "code",
   "execution_count": 146,
   "metadata": {
    "collapsed": true
   },
   "outputs": [],
   "source": [
    "fin1=get_lda_topics(lda_model, 10)\n",
    "fin1=fin1.transpose()\n",
    "fin1.to_csv(\"C:\\\\Users\\\\shreyas.raghavan\\\\Desktop\\\\NLP\\\\ASSN- W2\\\\topic-contributor_matrix.csv\")"
   ]
  },
  {
   "cell_type": "code",
   "execution_count": 147,
   "metadata": {
    "collapsed": true
   },
   "outputs": [],
   "source": [
    "a=[]\n",
    "for i in range(len(corpus)):\n",
    "    a.append(lda_model[corpus[i]])\n",
    "    i=i+1\n",
    "    "
   ]
  },
  {
   "cell_type": "code",
   "execution_count": 148,
   "metadata": {},
   "outputs": [
    {
     "data": {
      "text/html": [
       "<div>\n",
       "<style>\n",
       "    .dataframe thead tr:only-child th {\n",
       "        text-align: right;\n",
       "    }\n",
       "\n",
       "    .dataframe thead th {\n",
       "        text-align: left;\n",
       "    }\n",
       "\n",
       "    .dataframe tbody tr th {\n",
       "        vertical-align: top;\n",
       "    }\n",
       "</style>\n",
       "<table border=\"1\" class=\"dataframe\">\n",
       "  <thead>\n",
       "    <tr style=\"text-align: right;\">\n",
       "      <th></th>\n",
       "      <th>2</th>\n",
       "    </tr>\n",
       "  </thead>\n",
       "  <tbody>\n",
       "    <tr>\n",
       "      <th>0</th>\n",
       "      <td>[(0, [(5, 0.99984324)]), (1, [(5, 0.31272757),...</td>\n",
       "    </tr>\n",
       "    <tr>\n",
       "      <th>1</th>\n",
       "      <td>[(11, [(5, 1.9999762)]), (13, [(1, 0.5688842),...</td>\n",
       "    </tr>\n",
       "    <tr>\n",
       "      <th>2</th>\n",
       "      <td>[(7, [(1, 0.99990815)]), (118, []), (119, [(7,...</td>\n",
       "    </tr>\n",
       "    <tr>\n",
       "      <th>3</th>\n",
       "      <td>[(13, [(1, 0.4003992), (8, 0.5995937)]), (14, ...</td>\n",
       "    </tr>\n",
       "    <tr>\n",
       "      <th>4</th>\n",
       "      <td>[(37, [(1, 0.05659226), (5, 0.32899392), (8, 0...</td>\n",
       "    </tr>\n",
       "  </tbody>\n",
       "</table>\n",
       "</div>"
      ],
      "text/plain": [
       "                                                   2\n",
       "0  [(0, [(5, 0.99984324)]), (1, [(5, 0.31272757),...\n",
       "1  [(11, [(5, 1.9999762)]), (13, [(1, 0.5688842),...\n",
       "2  [(7, [(1, 0.99990815)]), (118, []), (119, [(7,...\n",
       "3  [(13, [(1, 0.4003992), (8, 0.5995937)]), (14, ...\n",
       "4  [(37, [(1, 0.05659226), (5, 0.32899392), (8, 0..."
      ]
     },
     "execution_count": 148,
     "metadata": {},
     "output_type": "execute_result"
    }
   ],
   "source": [
    "b=pd.DataFrame(a)\n",
    "c=pd.DataFrame(b[2])\n",
    "c.head()"
   ]
  },
  {
   "cell_type": "code",
   "execution_count": 154,
   "metadata": {
    "collapsed": true
   },
   "outputs": [],
   "source": [
    "a= (lda_model.get_document_topics(corpus, minimum_probability=0.0))"
   ]
  },
  {
   "cell_type": "code",
   "execution_count": 179,
   "metadata": {
    "collapsed": true
   },
   "outputs": [],
   "source": [
    "distributions = np.array(lda_model[corpus])[:,:,1]"
   ]
  },
  {
   "cell_type": "code",
   "execution_count": 181,
   "metadata": {
    "collapsed": true
   },
   "outputs": [],
   "source": [
    "fin2=pd.DataFrame(distributions)\n",
    "fin2.to_csv('C:\\\\Users\\\\shreyas.raghavan\\\\Desktop\\\\NLP\\\\ASSN- W2\\\\topic-document_matrix.csv')"
   ]
  },
  {
   "cell_type": "code",
   "execution_count": 191,
   "metadata": {
    "collapsed": true
   },
   "outputs": [],
   "source": [
    "from gensim.models import CoherenceModel\n",
    "\n",
    "def compute_coherence_values(dictionary, corpus, texts, limit, start=2, step=3):\n",
    "    \"\"\"\n",
    "    Compute c_v coherence for various number of topics\n",
    "\n",
    "    Parameters:\n",
    "    ----------\n",
    "    dictionary : Gensim dictionary\n",
    "    corpus : Gensim corpus\n",
    "    texts : List of input texts\n",
    "    limit : Max num of topics\n",
    "\n",
    "    Returns:\n",
    "    -------\n",
    "    model_list : List of LDA topic models\n",
    "    coherence_values : Coherence values corresponding to the LDA model with respective number of topics\n",
    "    \"\"\"\n",
    "    coherence_values = []\n",
    "    model_list = []\n",
    "    for num_topics in range(start, limit, step):\n",
    "        model = lda_model\n",
    "        model_list.append(model)\n",
    "        coherencemodel = CoherenceModel(model=model, texts=data_words_bigrams, dictionary=dictionary, coherence='c_v')\n",
    "        coherence_values.append(coherencemodel.get_coherence())\n",
    "\n",
    "    return model_list, coherence_values"
   ]
  },
  {
   "cell_type": "code",
   "execution_count": 203,
   "metadata": {
    "collapsed": true
   },
   "outputs": [],
   "source": [
    "model_list, coherence_values = compute_coherence_values(dictionary=id2word, corpus=corpus, texts=texts, start=2, limit=40, step=6)"
   ]
  },
  {
   "cell_type": "code",
   "execution_count": 204,
   "metadata": {},
   "outputs": [
    {
     "data": {
      "image/png": "[encoded data removed]",
      "text/plain": [
       "<matplotlib.figure.Figure at 0x45ca10f0>"
      ]
     },
     "metadata": {},
     "output_type": "display_data"
    }
   ],
   "source": [
    "# Show graph\n",
    "import matplotlib.pyplot as plt\n",
    "limit=40; start=0; step=6;\n",
    "x = range(start, limit, step)\n",
    "plt.plot(x, coherence_values)\n",
    "plt.xlabel(\"Num Topics\")\n",
    "plt.ylabel(\"Coherence score\")\n",
    "plt.legend((\"coherence_values\"), loc='best')\n",
    "plt.show()"
   ]
  },
  {
   "cell_type": "code",
   "execution_count": null,
   "metadata": {
    "collapsed": true
   },
   "outputs": [],
   "source": []
  }
 ],
 "metadata": {
  "kernelspec": {
   "display_name": "Python 3",
   "language": "python",
   "name": "python3"
  },
  "language_info": {
   "codemirror_mode": {
    "name": "ipython",
    "version": 3
   },
   "file_extension": ".py",
   "mimetype": "text/x-python",
   "name": "python",
   "nbconvert_exporter": "python",
   "pygments_lexer": "ipython3",
   "version": "3.6.3"
  }
 },
 "nbformat": 4,
 "nbformat_minor": 2
}
